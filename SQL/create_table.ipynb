{
 "cells": [
  {
   "cell_type": "markdown",
   "id": "6be2c4db",
   "metadata": {},
   "source": [
    "# Create tables for product sales\n",
    "\n",
    "We start importing the relevant modules and connect to the database callled `sales.db`"
   ]
  },
  {
   "cell_type": "code",
   "execution_count": 3,
   "id": "ed48888c",
   "metadata": {},
   "outputs": [],
   "source": [
    "import sqlite3\n",
    "conn = sqlite3.connect(\"sales.db\")\n",
    "cursor = conn.cursor()"
   ]
  },
  {
   "cell_type": "markdown",
   "id": "aaa6f77b",
   "metadata": {},
   "source": [
    "Now we clean the database if there is any already table in there"
   ]
  },
  {
   "cell_type": "code",
   "execution_count": 6,
   "id": "6b7177af",
   "metadata": {},
   "outputs": [
    {
     "name": "stdout",
     "output_type": "stream",
     "text": [
      "Tables in the database:\n",
      "produtos\n",
      "Database cleared.\n"
     ]
    }
   ],
   "source": [
    "# Querying for tables in the database\n",
    "cursor.execute(\"\"\"SELECT name FROM sqlite_master WHERE type='table';\"\"\")\n",
    "tables = cursor.fetchall()  \n",
    "\n",
    "# Dropping all tables in the database\n",
    "if tables:\n",
    "    print(\"Tables in the database:\")\n",
    "    for table in tables:\n",
    "        print(table[0])\n",
    "        cursor.execute(\"\"\"DROP TABLE IF EXISTS {}\"\"\".format(table[0]))\n",
    "else:\n",
    "    print(\"No tables found in the database.\")\n",
    "print(\"Database cleared.\")"
   ]
  },
  {
   "cell_type": "markdown",
   "id": "87e4cfde",
   "metadata": {},
   "source": [
    "## Create table structure\n",
    "\n",
    "We will create three tables `products` and `clients` which will store information about each entity and the `sales` will estabilish the connection between them.\n",
    "\n",
    "products: Information about the products. \n",
    "* id_product (primary key)\n",
    "* product_name\n",
    "* category\n",
    "* price\n",
    "\n",
    "sales: Details of each sales transaction.\n",
    "* id_sale (primary key)\n",
    "* id_product (foreign key - products table)\n",
    "* sale_date\n",
    "* quantity\n",
    "* id_client (foreign key - clients table)\n",
    "\n",
    "clients: Informations about clients.\n",
    "* id_client (primary key)\n",
    "* client_name\n",
    "* city\n",
    "* state"
   ]
  },
  {
   "cell_type": "code",
   "execution_count": 9,
   "id": "16387da8",
   "metadata": {},
   "outputs": [
    {
     "name": "stdout",
     "output_type": "stream",
     "text": [
      "[('products',), ('clients',), ('sales',)]\n"
     ]
    }
   ],
   "source": [
    "cursor.execute(\"\"\"CREATE TABLE IF NOT EXISTS products (\n",
    "    id_product INTEGER PRIMARY KEY,\n",
    "    name TEXT,\n",
    "    category INTEGER,\n",
    "    price REAL\n",
    ")\"\"\")\n",
    "\n",
    "cursor.execute(\"\"\"CREATE TABLE IF NOT EXISTS clients (\n",
    "    id_client INTEGER PRIMARY KEY,\n",
    "    client_name TEXT,\n",
    "    city TEXT,\n",
    "    state TEXT\n",
    ")\"\"\")\n",
    "\n",
    "cursor.execute(\"\"\"CREATE TABLE IF NOT EXISTS sales (\n",
    "    id_sale INTEGER PRIMARY KEY,\n",
    "    id_product INTEGER,\n",
    "    sale_date TEXT,\n",
    "    quantity INTEGER,\n",
    "    id_client INTEGER,\n",
    "    FOREIGN KEY (id_product) REFERENCES products (id_product),\n",
    "    FOREIGN KEY (id_client) REFERENCES clients (id_client)\n",
    ")\"\"\")\n",
    "\n",
    "# Querying for tables in the database\n",
    "cursor.execute(\"\"\"SELECT name FROM sqlite_master WHERE type='table';\"\"\")\n",
    "print( cursor.fetchall() )"
   ]
  }
 ],
 "metadata": {
  "kernelspec": {
   "display_name": "Python 3",
   "language": "python",
   "name": "python3"
  },
  "language_info": {
   "codemirror_mode": {
    "name": "ipython",
    "version": 3
   },
   "file_extension": ".py",
   "mimetype": "text/x-python",
   "name": "python",
   "nbconvert_exporter": "python",
   "pygments_lexer": "ipython3",
   "version": "3.13.7"
  }
 },
 "nbformat": 4,
 "nbformat_minor": 5
}
