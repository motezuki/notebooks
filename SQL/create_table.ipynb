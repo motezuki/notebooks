{
 "cells": [
  {
   "cell_type": "markdown",
   "id": "6be2c4db",
   "metadata": {},
   "source": [
    "# Create tables for product sales\n",
    "\n",
    "We start importing the relevant modules and connect to the database callled `sales.db`"
   ]
  },
  {
   "cell_type": "code",
   "execution_count": 20,
   "id": "ed48888c",
   "metadata": {},
   "outputs": [],
   "source": [
    "import sqlite3\n",
    "conn = sqlite3.connect(\"sales.db\")\n",
    "cursor = conn.cursor()"
   ]
  },
  {
   "cell_type": "markdown",
   "id": "aaa6f77b",
   "metadata": {},
   "source": [
    "Now we clean the database if there is any already table in there"
   ]
  },
  {
   "cell_type": "code",
   "execution_count": 21,
   "id": "6b7177af",
   "metadata": {},
   "outputs": [
    {
     "name": "stdout",
     "output_type": "stream",
     "text": [
      "Tables in the database:\n",
      "products\n",
      "clients\n",
      "sales\n",
      "Database cleared.\n"
     ]
    }
   ],
   "source": [
    "# Querying for tables in the database\n",
    "cursor.execute(\"\"\"SELECT name FROM sqlite_master WHERE type='table';\"\"\")\n",
    "tables = cursor.fetchall()  \n",
    "\n",
    "# Dropping all tables in the database\n",
    "if tables:\n",
    "    print(\"Tables in the database:\")\n",
    "    for table in tables:\n",
    "        print(table[0])\n",
    "        cursor.execute(\"\"\"DROP TABLE IF EXISTS {}\"\"\".format(table[0]))\n",
    "else:\n",
    "    print(\"No tables found in the database.\")\n",
    "print(\"Database cleared.\")"
   ]
  },
  {
   "cell_type": "markdown",
   "id": "87e4cfde",
   "metadata": {},
   "source": [
    "## Create table structure\n",
    "\n",
    "We will create three tables `products` and `clients` which will store information about each entity and the `sales` will estabilish the connection between them.\n",
    "\n",
    "products: Information about the products. \n",
    "* id_product (primary key)\n",
    "* product_name\n",
    "* category\n",
    "* price\n",
    "\n",
    "sales: Details of each sales transaction.\n",
    "* id_sale (primary key)\n",
    "* id_product (foreign key - products table)\n",
    "* sale_date\n",
    "* quantity\n",
    "* id_client (foreign key - clients table)\n",
    "\n",
    "clients: Informations about clients.\n",
    "* id_client (primary key)\n",
    "* client_name\n",
    "* city\n",
    "* state"
   ]
  },
  {
   "cell_type": "code",
   "execution_count": 22,
   "id": "16387da8",
   "metadata": {},
   "outputs": [
    {
     "data": {
      "text/plain": [
       "<sqlite3.Cursor at 0x73288b5af0c0>"
      ]
     },
     "execution_count": 22,
     "metadata": {},
     "output_type": "execute_result"
    }
   ],
   "source": [
    "cursor.execute(\"\"\"CREATE TABLE IF NOT EXISTS products (\n",
    "    id_product INTEGER PRIMARY KEY,\n",
    "    name TEXT,\n",
    "    category INTEGER,\n",
    "    price REAL\n",
    ")\"\"\")\n",
    "\n",
    "cursor.execute(\"\"\"CREATE TABLE IF NOT EXISTS clients (\n",
    "    id_client INTEGER PRIMARY KEY,\n",
    "    client_name TEXT,\n",
    "    city TEXT,\n",
    "    state TEXT\n",
    ")\"\"\")\n",
    "\n",
    "cursor.execute(\"\"\"CREATE TABLE IF NOT EXISTS sales (\n",
    "    id_sale INTEGER PRIMARY KEY,\n",
    "    id_product INTEGER,\n",
    "    sale_date TEXT,\n",
    "    quantity INTEGER,\n",
    "    id_client INTEGER,\n",
    "    FOREIGN KEY (id_product) REFERENCES products (id_product),\n",
    "    FOREIGN KEY (id_client) REFERENCES clients (id_client)\n",
    ")\"\"\")\n"
   ]
  },
  {
   "cell_type": "markdown",
   "id": "4730c74e",
   "metadata": {},
   "source": [
    "Check the tables and fields created"
   ]
  },
  {
   "cell_type": "code",
   "execution_count": 23,
   "id": "93a64a73",
   "metadata": {},
   "outputs": [
    {
     "name": "stdout",
     "output_type": "stream",
     "text": [
      "[('products',), ('clients',), ('sales',)]\n",
      "[(0, 'id_product', 'INTEGER', 0, None, 1), (1, 'name', 'TEXT', 0, None, 0), (2, 'category', 'INTEGER', 0, None, 0), (3, 'price', 'REAL', 0, None, 0)]\n",
      "[(0, 'id_client', 'INTEGER', 0, None, 1), (1, 'client_name', 'TEXT', 0, None, 0), (2, 'city', 'TEXT', 0, None, 0), (3, 'state', 'TEXT', 0, None, 0)]\n",
      "[(0, 'id_sale', 'INTEGER', 0, None, 1), (1, 'id_product', 'INTEGER', 0, None, 0), (2, 'sale_date', 'TEXT', 0, None, 0), (3, 'quantity', 'INTEGER', 0, None, 0), (4, 'id_client', 'INTEGER', 0, None, 0)]\n"
     ]
    }
   ],
   "source": [
    "# Querying for tables in the database\n",
    "cursor.execute(\"\"\"SELECT name FROM sqlite_master WHERE type='table';\"\"\")\n",
    "print( cursor.fetchall() )\n",
    "\n",
    "cursor.execute(\"PRAGMA table_info(products)\")\n",
    "print( cursor.fetchall() )\n",
    "\n",
    "cursor.execute(\"PRAGMA table_info(clients)\")\n",
    "print( cursor.fetchall() )\n",
    "\n",
    "cursor.execute(\"PRAGMA table_info(sales)\")\n",
    "print( cursor.fetchall() )"
   ]
  },
  {
   "cell_type": "markdown",
   "id": "ec52ffd9",
   "metadata": {},
   "source": [
    "# Populate the tables\n",
    "\n",
    "We use the `faker` module to generate synthetic data in a automated manner "
   ]
  },
  {
   "cell_type": "code",
   "execution_count": 24,
   "id": "a7e2ece3",
   "metadata": {},
   "outputs": [],
   "source": [
    "from faker import Faker\n",
    "\n",
    "fake = Faker('pt_BR')\n",
    "Faker.seed(1234)\n"
   ]
  },
  {
   "cell_type": "code",
   "execution_count": 25,
   "id": "0b64e220",
   "metadata": {},
   "outputs": [],
   "source": [
    "quantity_products = 50\n",
    "quantity_clients = 100\n",
    "quantity_sales = 1000\n",
    "\n",
    "for i in range(quantity_products):\n",
    "    name = fake.word().capitalize()\n",
    "    category = fake.random_int(min=1, max=5)\n",
    "    price = round(fake.random_number(digits=3) + fake.random.random(), 2)\n",
    "    cursor.execute(\"\"\"INSERT INTO products (name, category, price) VALUES (?, ?, ?)\"\"\", (name, category, price))    \n",
    "    conn.commit()\n",
    "\n",
    "for i in range(quantity_clients):\n",
    "    client_name = fake.name()\n",
    "    city = fake.city()\n",
    "    state = fake.state_abbr()\n",
    "    cursor.execute(\"\"\"INSERT INTO clients (client_name, city, state) VALUES (?, ?, ?)\"\"\", (client_name, city, state))    \n",
    "    conn.commit()\n",
    "\n",
    "for i in range(quantity_sales):\n",
    "    id_product = fake.random_int(min=1, max=50)\n",
    "    sale_date = fake.date_between(start_date='-1y', end_date='today').strftime('%Y-%m-%d')\n",
    "    quantity = fake.random_int(min=1, max=10)\n",
    "    id_client = fake.random_int(min=1, max=100)\n",
    "    cursor.execute(\"\"\"INSERT INTO sales (id_product, sale_date, quantity, id_client) VALUES (?, ?, ?, ?)\"\"\", (id_product, sale_date, quantity, id_client))    \n",
    "    conn.commit()"
   ]
  },
  {
   "cell_type": "markdown",
   "id": "8903024f",
   "metadata": {},
   "source": [
    "Check the data created by faker"
   ]
  },
  {
   "cell_type": "code",
   "execution_count": 26,
   "id": "48c7e7de",
   "metadata": {},
   "outputs": [
    {
     "data": {
      "text/plain": [
       "[(1, 'Vitor Borges', 'da Mota das Pedras', 'MG'),\n",
       " (2, 'Kamilly Moura', 'Sampaio', 'MG'),\n",
       " (3, 'Heitor da Rosa', 'Aragão da Praia', 'TO'),\n",
       " (4, 'Isabel Vasconcelos', 'Cavalcante de Garcia', 'MA'),\n",
       " (5, 'Brayan Mendes', 'da Rosa das Pedras', 'TO'),\n",
       " (6, 'Pietra Cirino', 'Pires do Amparo', 'CE'),\n",
       " (7, 'Léo Rezende', 'Costela da Serra', 'PE'),\n",
       " (8, 'Natália Rios', 'Ribeiro de Alves', 'SE'),\n",
       " (9, 'Sra. Bella Alves', 'Vieira do Amparo', 'AP'),\n",
       " (10, 'Lucas Ferreira', 'da Rosa Verde', 'MT')]"
      ]
     },
     "execution_count": 26,
     "metadata": {},
     "output_type": "execute_result"
    }
   ],
   "source": [
    "cursor.execute(\"SELECT * FROM clients LIMIT 10\")\n",
    "cursor.fetchall()"
   ]
  },
  {
   "cell_type": "code",
   "execution_count": 27,
   "id": "9820bc9f",
   "metadata": {},
   "outputs": [
    {
     "data": {
      "text/plain": [
       "[(1, 'Nulla', 1, 7.09),\n",
       " (2, 'Reprehenderit', 1, 687.69),\n",
       " (3, 'Consequuntur', 3, 242.02),\n",
       " (4, 'Ad', 3, 663.62),\n",
       " (5, 'Sint', 4, 152.09),\n",
       " (6, 'Cum', 1, 515.49),\n",
       " (7, 'Expedita', 1, 683.54),\n",
       " (8, 'Omnis', 1, 615.68),\n",
       " (9, 'Quam', 5, 47.27),\n",
       " (10, 'Quos', 1, 660.3)]"
      ]
     },
     "execution_count": 27,
     "metadata": {},
     "output_type": "execute_result"
    }
   ],
   "source": [
    "cursor.execute(\"SELECT * FROM products LIMIT 10\")\n",
    "cursor.fetchall()"
   ]
  },
  {
   "cell_type": "code",
   "execution_count": 28,
   "id": "2869987f",
   "metadata": {},
   "outputs": [
    {
     "data": {
      "text/plain": [
       "[(1, 23, '2025-05-14', 1, 65),\n",
       " (2, 3, '2024-12-04', 5, 25),\n",
       " (3, 31, '2025-07-21', 7, 84),\n",
       " (4, 44, '2025-05-29', 5, 41),\n",
       " (5, 36, '2025-08-21', 7, 35),\n",
       " (6, 29, '2025-05-18', 1, 78),\n",
       " (7, 41, '2025-05-06', 5, 25),\n",
       " (8, 21, '2024-10-27', 10, 47),\n",
       " (9, 24, '2025-02-26', 7, 53),\n",
       " (10, 44, '2025-01-04', 10, 22)]"
      ]
     },
     "execution_count": 28,
     "metadata": {},
     "output_type": "execute_result"
    }
   ],
   "source": [
    "cursor.execute(\"SELECT * FROM sales LIMIT 10\")\n",
    "cursor.fetchall()"
   ]
  }
 ],
 "metadata": {
  "kernelspec": {
   "display_name": "Python 3",
   "language": "python",
   "name": "python3"
  },
  "language_info": {
   "codemirror_mode": {
    "name": "ipython",
    "version": 3
   },
   "file_extension": ".py",
   "mimetype": "text/x-python",
   "name": "python",
   "nbconvert_exporter": "python",
   "pygments_lexer": "ipython3",
   "version": "3.13.7"
  }
 },
 "nbformat": 4,
 "nbformat_minor": 5
}
